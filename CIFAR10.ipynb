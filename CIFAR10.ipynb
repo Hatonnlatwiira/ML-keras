{
 "cells": [
  {
   "cell_type": "code",
   "execution_count": 1,
   "metadata": {},
   "outputs": [
    {
     "name": "stderr",
     "output_type": "stream",
     "text": [
      "Using TensorFlow backend.\n"
     ]
    }
   ],
   "source": [
    "import keras\n",
    "from keras.datasets import cifar10\n",
    "from keras.models import Sequential\n",
    "from keras.layers import Conv2D, MaxPooling2D\n",
    "from keras.layers import Dense, Dropout, Flatten"
   ]
  },
  {
   "cell_type": "code",
   "execution_count": 2,
   "metadata": {},
   "outputs": [],
   "source": [
    "num_classes = 10\n",
    "batch_size = 32\n",
    "epochs=10"
   ]
  },
  {
   "cell_type": "code",
   "execution_count": 3,
   "metadata": {},
   "outputs": [],
   "source": [
    "(x_train, y_train), (x_test, y_test) = cifar10.load_data()\n",
    "y_train = keras.utils.to_categorical(y_train, num_classes=num_classes)\n",
    "y_test = keras.utils.to_categorical(y_test, num_classes=num_classes)\n",
    "\n",
    "x_train = x_train / 255\n",
    "x_test = x_test / 255"
   ]
  },
  {
   "cell_type": "code",
   "execution_count": 4,
   "metadata": {},
   "outputs": [
    {
     "name": "stdout",
     "output_type": "stream",
     "text": [
      "Train on 50000 samples, validate on 10000 samples\n",
      "Epoch 1/10\n",
      "50000/50000 [==============================] - 87s 2ms/step - loss: 1.5999 - accuracy: 0.4234 - val_loss: 1.5208 - val_accuracy: 0.4826\n",
      "Epoch 2/10\n",
      "50000/50000 [==============================] - 90s 2ms/step - loss: 1.2026 - accuracy: 0.5780 - val_loss: 1.0737 - val_accuracy: 0.6282\n",
      "Epoch 3/10\n",
      "50000/50000 [==============================] - 90s 2ms/step - loss: 1.0795 - accuracy: 0.6278 - val_loss: 0.9054 - val_accuracy: 0.6882\n",
      "Epoch 4/10\n",
      "50000/50000 [==============================] - 89s 2ms/step - loss: 1.0253 - accuracy: 0.6470 - val_loss: 1.1580 - val_accuracy: 0.6315\n",
      "Epoch 5/10\n",
      "50000/50000 [==============================] - 89s 2ms/step - loss: 1.0251 - accuracy: 0.6548 - val_loss: 0.9690 - val_accuracy: 0.6804\n",
      "Epoch 6/10\n",
      "50000/50000 [==============================] - 89s 2ms/step - loss: 1.0367 - accuracy: 0.6553 - val_loss: 1.2737 - val_accuracy: 0.6378\n",
      "Epoch 7/10\n",
      "50000/50000 [==============================] - 89s 2ms/step - loss: 1.0659 - accuracy: 0.6512 - val_loss: 1.0774 - val_accuracy: 0.6581\n",
      "Epoch 8/10\n",
      "50000/50000 [==============================] - 89s 2ms/step - loss: 1.1013 - accuracy: 0.6405 - val_loss: 0.8977 - val_accuracy: 0.6938\n",
      "Epoch 9/10\n",
      "50000/50000 [==============================] - 89s 2ms/step - loss: 1.1315 - accuracy: 0.6377 - val_loss: 0.9379 - val_accuracy: 0.6890\n",
      "Epoch 10/10\n",
      "50000/50000 [==============================] - 89s 2ms/step - loss: 1.1411 - accuracy: 0.6326 - val_loss: 1.2378 - val_accuracy: 0.6207\n"
     ]
    },
    {
     "data": {
      "text/plain": [
       "<keras.callbacks.callbacks.History at 0x24c95804a20>"
      ]
     },
     "execution_count": 4,
     "metadata": {},
     "output_type": "execute_result"
    }
   ],
   "source": [
    "model = Sequential()\n",
    "model.add(Conv2D(32, (3, 3), activation='relu', input_shape=x_train.shape[1:]))\n",
    "model.add(Conv2D(32, (3, 3), activation='relu'))\n",
    "model.add(MaxPooling2D(pool_size=(2, 2)))\n",
    "model.add(Dropout(0.25))\n",
    "\n",
    "model.add(Conv2D(64, (3, 3), activation='relu'))\n",
    "model.add(Conv2D(64, (3, 3), activation='relu'))\n",
    "model.add(MaxPooling2D(pool_size=(2, 2)))\n",
    "model.add(Dropout(0.25))\n",
    "\n",
    "model.add(Flatten())\n",
    "model.add(Dense(512, activation='relu'))\n",
    "model.add(Dropout(0.5))\n",
    "model.add(Dense(num_classes, activation='softmax'))\n",
    "\n",
    "model.compile(loss='categorical_crossentropy',\n",
    "              optimizer='RMSprop',\n",
    "              metrics=['accuracy'])\n",
    "\n",
    "model.fit(x_train, y_train,\n",
    "          batch_size=batch_size,\n",
    "          epochs=epochs,\n",
    "          validation_data=(x_test, y_test))"
   ]
  },
  {
   "cell_type": "code",
   "execution_count": null,
   "metadata": {},
   "outputs": [],
   "source": []
  }
 ],
 "metadata": {
  "kernelspec": {
   "display_name": "Python 3",
   "language": "python",
   "name": "python3"
  },
  "language_info": {
   "codemirror_mode": {
    "name": "ipython",
    "version": 3
   },
   "file_extension": ".py",
   "mimetype": "text/x-python",
   "name": "python",
   "nbconvert_exporter": "python",
   "pygments_lexer": "ipython3",
   "version": "3.6.4"
  }
 },
 "nbformat": 4,
 "nbformat_minor": 2
}
